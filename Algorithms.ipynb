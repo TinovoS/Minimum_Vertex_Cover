{
 "cells": [
  {
   "cell_type": "code",
   "execution_count": 5,
   "metadata": {},
   "outputs": [],
   "source": [
    "from itertools import combinations\n",
    "import networkx as nx\n",
    "import matplotlib.pyplot as plt"
   ]
  },
  {
   "cell_type": "code",
   "execution_count": 13,
   "metadata": {},
   "outputs": [],
   "source": [
    "def is_graph_minimum_vertex_cover(G, vertex_cover):\n",
    "    for u in G:\n",
    "        for v in G[u]:\n",
    "            if u not in vertex_cover and v not in vertex_cover:\n",
    "                return False\n",
    "    return True\n",
    "    \n",
    "def brute_force(G):\n",
    "    vertices = list(G.nodes())\n",
    "    n = len(vertices)\n",
    "    \n",
    "    for r in range(1, n+1):\n",
    "        for subset in combinations(vertices, r):\n",
    "            vertex_cover = set(subset)\n",
    "            if is_graph_minimum_vertex_cover(G, vertex_cover):\n",
    "                return vertex_cover\n",
    "    \n",
    "    return None"
   ]
  },
  {
   "cell_type": "code",
   "execution_count": null,
   "metadata": {},
   "outputs": [],
   "source": [
    "\n"
   ]
  },
  {
   "cell_type": "code",
   "execution_count": null,
   "metadata": {},
   "outputs": [],
   "source": []
  }
 ],
 "metadata": {
  "kernelspec": {
   "display_name": "Python 3",
   "language": "python",
   "name": "python3"
  },
  "language_info": {
   "codemirror_mode": {
    "name": "ipython",
    "version": 3
   },
   "file_extension": ".py",
   "mimetype": "text/x-python",
   "name": "python",
   "nbconvert_exporter": "python",
   "pygments_lexer": "ipython3",
   "version": "3.8.10"
  }
 },
 "nbformat": 4,
 "nbformat_minor": 2
}
